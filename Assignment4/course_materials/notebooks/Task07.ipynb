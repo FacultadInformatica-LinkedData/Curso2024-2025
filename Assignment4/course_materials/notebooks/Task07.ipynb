{
  "cells": [
    {
      "cell_type": "markdown",
      "metadata": {
        "id": "nOOPLCHF7hLB"
      },
      "source": [
        "**Task 07: Querying RDF(s)**"
      ]
    },
    {
      "cell_type": "code",
      "execution_count": 2,
      "metadata": {
        "colab": {
          "base_uri": "https://localhost:8080/",
          "height": 211
        },
        "id": "Yl9npCt8n6m-",
        "outputId": "096014c0-f1ad-4bd6-bada-ab3561ff1367"
      },
      "outputs": [
        {
          "name": "stdout",
          "output_type": "stream",
          "text": [
            "Requirement already satisfied: rdflib in /usr/local/lib/python3.10/site-packages (7.0.0)\n",
            "Requirement already satisfied: isodate<0.7.0,>=0.6.0 in /usr/local/lib/python3.10/site-packages (from rdflib) (0.6.1)\n",
            "Requirement already satisfied: pyparsing<4,>=2.1.0 in /usr/local/lib/python3.10/site-packages (from rdflib) (3.1.4)\n",
            "Requirement already satisfied: six in /Users/mibook/Library/Python/3.10/lib/python/site-packages (from isodate<0.7.0,>=0.6.0->rdflib) (1.16.0)\n",
            "\n",
            "\u001b[1m[\u001b[0m\u001b[34;49mnotice\u001b[0m\u001b[1;39;49m]\u001b[0m\u001b[39;49m A new release of pip is available: \u001b[0m\u001b[31;49m24.0\u001b[0m\u001b[39;49m -> \u001b[0m\u001b[32;49m24.2\u001b[0m\n",
            "\u001b[1m[\u001b[0m\u001b[34;49mnotice\u001b[0m\u001b[1;39;49m]\u001b[0m\u001b[39;49m To update, run: \u001b[0m\u001b[32;49mpython3.10 -m pip install --upgrade pip\u001b[0m\n",
            "Note: you may need to restart the kernel to use updated packages.\n"
          ]
        }
      ],
      "source": [
        "%pip install rdflib\n",
        "github_storage = \"https://raw.githubusercontent.com/FacultadInformatica-LinkedData/Curso2024-2025/master/Assignment4/course_materials\""
      ]
    },
    {
      "cell_type": "markdown",
      "metadata": {
        "id": "XY7aPc86Bqoo"
      },
      "source": [
        "First let's read the RDF file"
      ]
    },
    {
      "cell_type": "code",
      "execution_count": 5,
      "metadata": {
        "colab": {
          "base_uri": "https://localhost:8080/",
          "height": 35
        },
        "id": "9ERh415on7kF",
        "outputId": "395dc571-ef76-4330-cf4b-0b9db3aa5277"
      },
      "outputs": [
        {
          "name": "stdout",
          "output_type": "stream",
          "text": [
            "http://somewhere#http://www.w3.org/2001/vcard-rdf/3.0/Family http://www.w3.org/2000/01/rdf-schema#range http://www.w3.org/2001/XMLSchema#string\n",
            "http://somewhere#JohnSmith http://www.w3.org/1999/02/22-rdf-syntax-ns#type http://somewhere#Person\n",
            "http://somewhere#JohnSmith http://www.w3.org/2001/vcard-rdf/3.0/Given John\n",
            "http://somewhere#PhDstudent http://www.w3.org/2000/01/rdf-schema#subClassOf http://somewhere#Researcher\n",
            "http://somewhere#Bugs http://xmlns.com/foaf/0.1/knows http://somewhere#RockySmith\n",
            "http://somewhere#Bugs http://www.w3.org/1999/02/22-rdf-syntax-ns#type http://somewhere#Animal\n",
            "http://somewhere#http://www.w3.org/2001/vcard-rdf/3.0/FN http://www.w3.org/1999/02/22-rdf-syntax-ns#type http://www.w3.org/2000/01/rdf-schema#Datatype\n",
            "http://somewhere#SaraJones http://www.w3.org/2001/vcard-rdf/3.0/FN Sara Jones\n",
            "http://somewhere#JaneSmith http://www.w3.org/2001/vcard-rdf/3.0/Family Smith\n",
            "http://somewhere#JaneSmith http://www.w3.org/2001/vcard-rdf/3.0/Given Jane\n",
            "http://somewhere#JaneSmith http://xmlns.com/foaf/0.1/knows http://somewhere#RockySmith\n",
            "http://somewhere#JimGonzalez http://www.w3.org/2001/vcard-rdf/3.0/Family Gonzalez\n",
            "http://somewhere#Researcher http://www.w3.org/2000/01/rdf-schema#subClassOf http://somewhere#Person\n",
            "http://somewhere#UPM http://www.w3.org/1999/02/22-rdf-syntax-ns#type http://somewhere#University\n",
            "http://somewhere#RockySmith http://www.w3.org/2001/vcard-rdf/3.0/Given Rocky\n",
            "http://somewhere#http://www.w3.org/2001/vcard-rdf/3.0/Given http://www.w3.org/1999/02/22-rdf-syntax-ns#type http://www.w3.org/2000/01/rdf-schema#Datatype\n",
            "http://somewhere#RockySmith http://xmlns.com/foaf/0.1/knows http://somewhere#JaneSmith\n",
            "http://somewhere#Researcher http://www.w3.org/1999/02/22-rdf-syntax-ns#type http://www.w3.org/2000/01/rdf-schema#Class\n",
            "http://somewhere#SaraJones http://xmlns.com/foaf/0.1/age 22\n",
            "http://somewhere#Professor http://www.w3.org/1999/02/22-rdf-syntax-ns#type http://www.w3.org/2000/01/rdf-schema#Class\n",
            "http://somewhere#SaraJones http://www.w3.org/1999/02/22-rdf-syntax-ns#type http://somewhere#Person\n",
            "http://somewhere#University http://www.w3.org/1999/02/22-rdf-syntax-ns#type http://www.w3.org/2000/01/rdf-schema#Class\n",
            "http://somewhere#SaraJones http://xmlns.com/foaf/0.1/knows http://somewhere#JaneSmith\n",
            "http://somewhere#Professor http://www.w3.org/2000/01/rdf-schema#subClassOf http://somewhere#Person\n",
            "http://somewhere#Bugs http://www.w3.org/2001/vcard-rdf/3.0/Given Bugs\n",
            "http://somewhere#RockySmith http://www.w3.org/2001/vcard-rdf/3.0/Family Smith\n",
            "http://somewhere#Person http://www.w3.org/1999/02/22-rdf-syntax-ns#type http://www.w3.org/2000/01/rdf-schema#Class\n",
            "http://somewhere#Bugs http://xmlns.com/foaf/0.1/knows http://somewhere#SaraJones\n",
            "http://somewhere#RockySmith http://www.w3.org/1999/02/22-rdf-syntax-ns#type http://somewhere#Animal\n",
            "http://somewhere#http://www.w3.org/2001/vcard-rdf/3.0/Family http://www.w3.org/1999/02/22-rdf-syntax-ns#type http://www.w3.org/2000/01/rdf-schema#Property\n",
            "http://somewhere#RockySmith http://xmlns.com/foaf/0.1/age 10\n",
            "http://somewhere#SaraJones http://xmlns.com/foaf/0.1/knows http://somewhere#RockySmith\n",
            "http://somewhere#JaneSmith http://www.w3.org/2001/vcard-rdf/3.0/FN Jane Smith\n",
            "http://somewhere#http://www.w3.org/2001/vcard-rdf/3.0/FN http://www.w3.org/2000/01/rdf-schema#range http://www.w3.org/2001/XMLSchema#string\n",
            "http://somewhere#JaneSmith http://xmlns.com/foaf/0.1/knows http://somewhere#SaraJones\n",
            "http://somewhere#JaneSmith http://xmlns.com/foaf/0.1/age 30\n",
            "http://somewhere#JimGonzalez http://www.w3.org/2001/vcard-rdf/3.0/FN Jim Gonzalez\n",
            "http://somewhere#Person http://www.w3.org/2000/01/rdf-schema#subClassOf http://somewhere#LivingThing\n",
            "http://somewhere#PhDstudent http://www.w3.org/1999/02/22-rdf-syntax-ns#type http://www.w3.org/2000/01/rdf-schema#Class\n",
            "http://somewhere#JimGonzalez http://xmlns.com/foaf/0.1/age 40\n",
            "http://somewhere#Animal http://www.w3.org/1999/02/22-rdf-syntax-ns#type http://www.w3.org/2000/01/rdf-schema#Class\n",
            "http://somewhere#JohnSmith http://xmlns.com/foaf/0.1/age 20\n",
            "http://somewhere#Bugs http://xmlns.com/foaf/0.1/age 2\n",
            "http://somewhere#RockySmith http://xmlns.com/foaf/0.1/knows http://somewhere#Bugs\n",
            "http://somewhere#JimGonzalez http://www.w3.org/2001/vcard-rdf/3.0/Given Jim\n",
            "http://somewhere#http://www.w3.org/2001/vcard-rdf/3.0/Given http://www.w3.org/2000/01/rdf-schema#range http://www.w3.org/2001/XMLSchema#string\n",
            "http://somewhere#LivingThing http://www.w3.org/1999/02/22-rdf-syntax-ns#type http://www.w3.org/2000/01/rdf-schema#Class\n",
            "http://somewhere#RockySmith http://www.w3.org/2001/vcard-rdf/3.0/FN Rocky Smith\n",
            "http://somewhere#JohnSmith http://www.w3.org/2001/vcard-rdf/3.0/FN John Smith\n",
            "http://somewhere#JaneSmith http://www.w3.org/1999/02/22-rdf-syntax-ns#type http://somewhere#Researcher\n",
            "http://somewhere#RockySmith http://xmlns.com/foaf/0.1/knows http://somewhere#SaraJones\n",
            "http://somewhere#JimGonzalez http://www.w3.org/1999/02/22-rdf-syntax-ns#type http://somewhere#Professor\n",
            "http://somewhere#Bugs http://xmlns.com/foaf/0.1/knows http://somewhere#JaneSmith\n",
            "http://somewhere#SaraJones http://www.w3.org/2001/vcard-rdf/3.0/Given Sara\n",
            "http://somewhere#Animal http://www.w3.org/2000/01/rdf-schema#subClassOf http://somewhere#LivingThing\n",
            "http://somewhere#JohnSmith http://www.w3.org/2001/vcard-rdf/3.0/Family Smith\n",
            "http://somewhere#SaraJones http://www.w3.org/2001/vcard-rdf/3.0/Family Jones\n"
          ]
        }
      ],
      "source": [
        "from rdflib import Graph, Namespace, Literal\n",
        "from rdflib.namespace import RDF, RDFS\n",
        "g = Graph()\n",
        "g.namespace_manager.bind('ns', Namespace(\"http://somewhere#\"), override=False)\n",
        "g.namespace_manager.bind('vcard', Namespace(\"http://www.w3.org/2001/vcard-rdf/3.0#\"), override=False)\n",
        "\n",
        "g.parse(github_storage+\"/rdf/example6.rdf\", format=\"xml\")\n",
        "\n",
        "for s, p, o in g:\n",
        "    print(s, p, o)"
      ]
    },
    {
      "cell_type": "markdown",
      "metadata": {
        "id": "qp1oe2Eddsvo"
      },
      "source": [
        "**TASK 7.1: List all subclasses of \"LivingThing\" with RDFLib and SPARQL**"
      ]
    },
    {
      "cell_type": "code",
      "execution_count": 42,
      "metadata": {
        "id": "tRcSWuMHOXBl"
      },
      "outputs": [
        {
          "name": "stdout",
          "output_type": "stream",
          "text": [
            "Subclases de LivingThing:\n",
            "http://somewhere#Person\n",
            "http://somewhere#Animal\n"
          ]
        }
      ],
      "source": [
        "# TO DO\n",
        "# Definir la consulta SPARQL para obtener subclases de \"LivingThing\"\n",
        "query = \"\"\"\n",
        "PREFIX rdfs: <http://www.w3.org/2000/01/rdf-schema#>\n",
        "SELECT ?subclass WHERE {\n",
        "    ?subclass rdfs:subClassOf <http://somewhere#LivingThing> .\n",
        "}\n",
        "\"\"\"\n",
        "\n",
        "# Ejecutar la consulta SPARQL\n",
        "result = g.query(query)\n",
        "\n",
        "# Imprimir los resultados\n",
        "print(\"Subclases de LivingThing:\")\n",
        "\n",
        "# Visualize the results\n",
        "\n",
        "for r in result:\n",
        "  print(r[0])"
      ]
    },
    {
      "cell_type": "markdown",
      "metadata": {
        "id": "gM3DASkTQQ5Y"
      },
      "source": [
        "**TASK 7.2: List all individuals of \"Person\" with RDFLib and SPARQL (remember the subClasses)**\n"
      ]
    },
    {
      "cell_type": "code",
      "execution_count": 9,
      "metadata": {
        "id": "LiKSPHRzS-XJ"
      },
      "outputs": [
        {
          "name": "stdout",
          "output_type": "stream",
          "text": [
            "Individuos de Person o sus subclases:\n",
            "http://somewhere#SaraJones\n",
            "http://somewhere#JohnSmith\n",
            "http://somewhere#JaneSmith\n",
            "http://somewhere#JimGonzalez\n"
          ]
        }
      ],
      "source": [
        "# TO DO\n",
        "# Definir la consulta SPARQL para obtener todos los individuos de Person o sus subclases\n",
        "q1 = \"\"\"\n",
        "PREFIX rdf: <http://www.w3.org/1999/02/22-rdf-syntax-ns#>\n",
        "PREFIX rdfs: <http://www.w3.org/2000/01/rdf-schema#>\n",
        "SELECT ?individual WHERE {\n",
        "    ?individual rdf:type/rdfs:subClassOf* <http://somewhere#Person> .\n",
        "}\n",
        "\"\"\"\n",
        "\n",
        "# Ejecutar la consulta SPARQL\n",
        "result = g.query(q1)\n",
        "\n",
        "# Imprimir los resultados con el bucle que mencionas\n",
        "print(\"Individuos de Person o sus subclases:\")\n",
        "for r in result:\n",
        "    print(r[0])  # Imprimir el URI de cada individuo\n",
        "# Visualize the results"
      ]
    },
    {
      "cell_type": "markdown",
      "metadata": {
        "id": "MXBqtBkJd22I"
      },
      "source": [
        "**TASK 7.3: List all individuals of just \"Person\" or \"Animal\". You do not need to list the individuals of the subclasses of person (in SPARQL only)**\n"
      ]
    },
    {
      "cell_type": "code",
      "execution_count": 38,
      "metadata": {
        "id": "APQGv3NHX8Tf"
      },
      "outputs": [
        {
          "name": "stdout",
          "output_type": "stream",
          "text": [
            "Individuos de Person o Animal:\n",
            "http://somewhere#RockySmith\n",
            "http://somewhere#Bugs\n",
            "http://somewhere#SaraJones\n",
            "http://somewhere#JohnSmith\n"
          ]
        }
      ],
      "source": [
        "# TO DO\n",
        "\n",
        "# Definir la consulta SPARQL para obtener individuos de Person o Animal\n",
        "q3 = \"\"\"\n",
        "PREFIX rdf: <http://www.w3.org/1999/02/22-rdf-syntax-ns#>\n",
        "PREFIX rdfs: <http://www.w3.org/2000/01/rdf-schema#>\n",
        "PREFIX ns: <http://somewhere#>\n",
        "\n",
        "SELECT ?individual WHERE {\n",
        "  ?individual rdf:type ?type .\n",
        "  FILTER(?type = ns:Person || ?type = ns:Animal)\n",
        "}\n",
        "\"\"\"\n",
        "\n",
        "# Ejecutar la consulta SPARQL\n",
        "result = g.query(q3)\n",
        "\n",
        "\n",
        "# Visualize the results\n",
        "\n",
        "print(\"Individuos de Person o Animal:\")\n",
        "for r in result:\n",
        "    print(r[0])  # Imprimir el URI de cada individuo\n"
      ]
    },
    {
      "cell_type": "markdown",
      "metadata": {
        "id": "3NyI7M2VNr9R"
      },
      "source": [
        "**TASK 7.4:  List the name of the persons who know Rocky (in SPARQL only)**"
      ]
    },
    {
      "cell_type": "code",
      "execution_count": 58,
      "metadata": {
        "id": "I_CNoIKdNpbx"
      },
      "outputs": [],
      "source": [
        "# TO DO\n",
        "q4 = \"\"\"\n",
        "PREFIX rdf: <http://www.w3.org/1999/02/22-rdf-syntax-ns#>\n",
        "PREFIX rdfs: <http://www.w3.org/2000/01/rdf-schema#>\n",
        "PREFIX foaf: <http://xmlns.com/foaf/0.1/>\n",
        "PREFIX ns: <http://somewhere#>\n",
        "\n",
        "SELECT ?personName WHERE {\n",
        "  ?person foaf:knows ns:Rocky .\n",
        "  ?person foaf:name ?personName .\n",
        "}\n",
        "\"\"\"\"\"\n",
        "result = g.query(q4)\n",
        "\n",
        "# Visualize the results\n",
        "\n",
        "for r in result:\n",
        "  print(r[0])\n"
      ]
    },
    {
      "cell_type": "markdown",
      "metadata": {
        "id": "kyjGsyxDPa2C"
      },
      "source": [
        "**Task 7.5: List the name of those animals who know at least another animal in the graph (in SPARQL only)**"
      ]
    },
    {
      "cell_type": "code",
      "execution_count": 39,
      "metadata": {
        "id": "yoVwVZUAPaLm"
      },
      "outputs": [
        {
          "name": "stdout",
          "output_type": "stream",
          "text": [
            "http://somewhere#RockySmith\n",
            "http://somewhere#Bugs\n",
            "http://somewhere#SaraJones\n",
            "http://somewhere#JohnSmith\n"
          ]
        }
      ],
      "source": [
        "# TO DO\n",
        "\n",
        "q5 = \"\"\"PREFIX rdfs: <http://www.w3.org/2000/01/rdf-schema#>\n",
        "PREFIX rdf: <http://www.w3.org/1999/02/22-rdf-syntax-ns#>\n",
        "PREFIX foaf: <http://xmlns.com/foaf/0.1/>\n",
        "PREFIX ns: <http://somewhere#>\n",
        "\n",
        "SELECT DISTINCT ?animalName WHERE {\n",
        "  ?animal rdf:type ns:Animal .           # El animal que conoce a otro\n",
        "  ?animal foaf:knows ?otherAnimal .      # El animal conoce a otro animal\n",
        "  ?otherAnimal rdf:type ns:Animal .      # El otro también es un animal\n",
        "  ?animal foaf:name ?animalName .        # Obtener el nombre del animal\n",
        "}\n",
        "\"\"\"\n",
        "\n",
        "# Visualize the results\n",
        "for r in result:\n",
        "  print(r[0])\n",
        "\n"
      ]
    },
    {
      "cell_type": "markdown",
      "metadata": {
        "id": "oU_Rd2ByXBaV"
      },
      "source": [
        "**Task 7.6: List the age of all living things in descending order (in SPARQL only)**"
      ]
    },
    {
      "cell_type": "code",
      "execution_count": 51,
      "metadata": {
        "id": "KPL9SUPiXEJZ"
      },
      "outputs": [],
      "source": [
        "# TO DO\n",
        "q6 = \"\"\"\n",
        "PREFIX rdfs: <http://www.w3.org/2000/01/rdf-schema#>\n",
        "PREFIX rdf: <http://www.w3.org/1999/02/22-rdf-syntax-ns#>\n",
        "PREFIX foaf: <http://xmlns.com/foaf/0.1/>\n",
        "PREFIX ns: <http://somewhere#>\n",
        "\n",
        "SELECT ?livingThing ?age WHERE {\n",
        "  ?livingThing rdf:type ns:LivingThing .  # Buscar individuos de tipo LivingThing\n",
        "  ?livingThing ns:age ?age .              # Obtener la edad de cada ser vivo\n",
        "}\n",
        "ORDER BY DESC(?age)                       # Ordenar por edad en orden descendente\n",
        "\"\"\"\n",
        "result = g.query(q6)\n",
        "\n",
        "# Visualize the results\n",
        "for r in result:\n",
        "  print(r)\n"
      ]
    }
  ],
  "metadata": {
    "colab": {
      "provenance": []
    },
    "kernelspec": {
      "display_name": "Python 3 (ipykernel)",
      "language": "python",
      "name": "python3"
    },
    "language_info": {
      "codemirror_mode": {
        "name": "ipython",
        "version": 3
      },
      "file_extension": ".py",
      "mimetype": "text/x-python",
      "name": "python",
      "nbconvert_exporter": "python",
      "pygments_lexer": "ipython3",
      "version": "3.10.14"
    }
  },
  "nbformat": 4,
  "nbformat_minor": 0
}
