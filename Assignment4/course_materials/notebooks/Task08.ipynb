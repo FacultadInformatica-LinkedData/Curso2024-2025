{
 "cells": [
  {
   "cell_type": "markdown",
   "metadata": {
    "colab_type": "text",
    "id": "rb2ewz-dC6GC"
   },
   "source": [
    "**Task 08: Completing missing data**"
   ]
  },
  {
   "cell_type": "code",
   "execution_count": 54,
   "metadata": {
    "colab": {},
    "colab_type": "code",
    "id": "0sQG2Y915Isp"
   },
   "outputs": [
    {
     "name": "stdout",
     "output_type": "stream",
     "text": [
      "Requirement already satisfied: rdflib in /usr/local/lib/python3.10/site-packages (7.0.0)\n",
      "Requirement already satisfied: isodate<0.7.0,>=0.6.0 in /usr/local/lib/python3.10/site-packages (from rdflib) (0.6.1)\n",
      "Requirement already satisfied: pyparsing<4,>=2.1.0 in /usr/local/lib/python3.10/site-packages (from rdflib) (3.1.4)\n",
      "Requirement already satisfied: six in /Users/mibook/Library/Python/3.10/lib/python/site-packages (from isodate<0.7.0,>=0.6.0->rdflib) (1.16.0)\n",
      "\n",
      "\u001b[1m[\u001b[0m\u001b[34;49mnotice\u001b[0m\u001b[1;39;49m]\u001b[0m\u001b[39;49m A new release of pip is available: \u001b[0m\u001b[31;49m24.0\u001b[0m\u001b[39;49m -> \u001b[0m\u001b[32;49m24.2\u001b[0m\n",
      "\u001b[1m[\u001b[0m\u001b[34;49mnotice\u001b[0m\u001b[1;39;49m]\u001b[0m\u001b[39;49m To update, run: \u001b[0m\u001b[32;49mpython3.10 -m pip install --upgrade pip\u001b[0m\n",
      "Note: you may need to restart the kernel to use updated packages.\n"
     ]
    }
   ],
   "source": [
    "%pip install rdflib\n",
    "github_storage = \"https://raw.githubusercontent.com/FacultadInformatica-LinkedData/Curso2024-2025/master/Assignment4/course_materials\""
   ]
  },
  {
   "cell_type": "code",
   "execution_count": 55,
   "metadata": {
    "colab": {},
    "colab_type": "code",
    "id": "Jb4QeLue5NLr"
   },
   "outputs": [
    {
     "name": "stdout",
     "output_type": "stream",
     "text": [
      "Tripletas en g1:\n",
      "http://data.org#JohnSmith http://www.w3.org/2001/vcard-rdf/3.0#EMAIL j.smith@data.org\n",
      "http://data.org#SaraJones http://www.w3.org/1999/02/22-rdf-syntax-ns#type http://data.org#Person\n",
      "http://data.org#JohnDoe http://www.w3.org/2001/vcard-rdf/3.0#Family Doe\n",
      "http://data.org#Person http://www.w3.org/1999/02/22-rdf-syntax-ns#type http://www.w3.org/2000/01/rdf-schema#Class\n",
      "http://www.w3.org/2001/vcard-rdf/3.0#EMAIL http://www.w3.org/2000/01/rdf-schema#range http://www.w3.org/2001/XMLSchema#string\n",
      "http://www.w3.org/2001/vcard-rdf/3.0#Given http://www.w3.org/1999/02/22-rdf-syntax-ns#type http://www.w3.org/2000/01/rdf-schema#Datatype\n",
      "http://www.w3.org/2001/vcard-rdf/3.0#EMAIL http://www.w3.org/1999/02/22-rdf-syntax-ns#type http://www.w3.org/2000/01/rdf-schema#Datatype\n",
      "http://data.org#HarryPotter http://www.w3.org/2001/vcard-rdf/3.0#Family Potter\n",
      "http://data.org#HarryPotter http://www.w3.org/2001/vcard-rdf/3.0#Given Harry\n",
      "http://data.org#HarryPotter http://www.w3.org/1999/02/22-rdf-syntax-ns#type http://data.org#Person\n",
      "http://data.org#JohnDoe http://www.w3.org/2001/vcard-rdf/3.0#EMAIL doe@data.org\n",
      "http://www.w3.org/2001/vcard-rdf/3.0#Family http://www.w3.org/1999/02/22-rdf-syntax-ns#type http://www.w3.org/2000/01/rdf-schema#Property\n",
      "http://data.org#JohnSmith http://www.w3.org/1999/02/22-rdf-syntax-ns#type http://data.org#Person\n",
      "http://data.org#JohnDoe http://www.w3.org/1999/02/22-rdf-syntax-ns#type http://data.org#Person\n",
      "http://data.org#JohnSmith http://www.w3.org/2001/vcard-rdf/3.0#Given John\n",
      "http://www.w3.org/2001/vcard-rdf/3.0#Family http://www.w3.org/2000/01/rdf-schema#range http://www.w3.org/2001/XMLSchema#string\n",
      "http://www.w3.org/2001/vcard-rdf/3.0#Given http://www.w3.org/2000/01/rdf-schema#range http://www.w3.org/2001/XMLSchema#string\n",
      "Tripletas en g2:\n",
      "http://data.org#SaraJones http://www.w3.org/2001/vcard-rdf/3.0#Family Jones\n",
      "http://data.org#JohnSmith http://www.w3.org/2001/vcard-rdf/3.0#EMAIL j.smith@data.org\n",
      "http://data.org#SaraJones http://www.w3.org/1999/02/22-rdf-syntax-ns#type http://data.org#Person\n",
      "http://www.w3.org/2001/vcard-rdf/3.0/FN http://www.w3.org/1999/02/22-rdf-syntax-ns#type http://www.w3.org/2000/01/rdf-schema#Datatype\n",
      "http://data.org#JohnSmith http://www.w3.org/2001/vcard-rdf/3.0#Family Smith\n",
      "http://data.org#JohnDoe http://www.w3.org/2001/vcard-rdf/3.0#Family Doe\n",
      "http://data.org#Person http://www.w3.org/1999/02/22-rdf-syntax-ns#type http://www.w3.org/2000/01/rdf-schema#Class\n",
      "http://www.w3.org/2001/vcard-rdf/3.0/Given http://www.w3.org/2000/01/rdf-schema#range http://www.w3.org/2001/XMLSchema#string\n",
      "http://www.w3.org/2001/vcard-rdf/3.0/Given http://www.w3.org/1999/02/22-rdf-syntax-ns#type http://www.w3.org/2000/01/rdf-schema#Datatype\n",
      "http://data.org#HarryPotter http://www.w3.org/2001/vcard-rdf/3.0#FN Harry Potter\n",
      "http://data.org#HarryPotter http://www.w3.org/2001/vcard-rdf/3.0#Given Harry\n",
      "http://data.org#HarryPotter http://www.w3.org/2001/vcard-rdf/3.0#EMAIL hpotter@hogwarts.org\n",
      "http://data.org#HarryPotter http://www.w3.org/1999/02/22-rdf-syntax-ns#type http://data.org#Person\n",
      "http://data.org#JohnDoe http://www.w3.org/2001/vcard-rdf/3.0#Given John\n",
      "http://data.org#SaraJones http://www.w3.org/2001/vcard-rdf/3.0#Given Sara\n",
      "http://data.org#JohnDoe http://www.w3.org/2001/vcard-rdf/3.0#EMAIL doe@data.org\n",
      "http://www.w3.org/2001/vcard-rdf/3.0/Family http://www.w3.org/1999/02/22-rdf-syntax-ns#type http://www.w3.org/2000/01/rdf-schema#Property\n",
      "http://www.w3.org/2001/vcard-rdf/3.0/EMAIL http://www.w3.org/2000/01/rdf-schema#range http://www.w3.org/2001/XMLSchema#string\n",
      "http://data.org#SaraJones http://www.w3.org/2001/vcard-rdf/3.0#EMAIL sara.jones@data.org\n",
      "http://data.org#JohnSmith http://www.w3.org/1999/02/22-rdf-syntax-ns#type http://data.org#Person\n",
      "http://data.org#JohnDoe http://www.w3.org/1999/02/22-rdf-syntax-ns#type http://data.org#Person\n",
      "http://data.org#JohnSmith http://www.w3.org/2001/vcard-rdf/3.0#Given John\n",
      "http://www.w3.org/2001/vcard-rdf/3.0/Family http://www.w3.org/2000/01/rdf-schema#range http://www.w3.org/2001/XMLSchema#string\n",
      "http://www.w3.org/2001/vcard-rdf/3.0/EMAIL http://www.w3.org/1999/02/22-rdf-syntax-ns#type http://www.w3.org/2000/01/rdf-schema#Datatype\n",
      "http://www.w3.org/2001/vcard-rdf/3.0/FN http://www.w3.org/2000/01/rdf-schema#range http://www.w3.org/2001/XMLSchema#string\n"
     ]
    }
   ],
   "source": [
    "from rdflib import Graph, Namespace, Literal, URIRef\n",
    "g1 = Graph()\n",
    "g2 = Graph()\n",
    "\n",
    "# Definir el namespace correcto para VCARD y DATA\n",
    "DATA = Namespace(\"http://data.org#\")\n",
    "VCARD = Namespace(\"http://www.w3.org/2001/vcard-rdf/3.0/\")\n",
    "\n",
    "g1.parse(github_storage+\"/rdf/data01.rdf\", format=\"xml\")\n",
    "g2.parse(github_storage+\"/rdf/data02.rdf\", format=\"xml\")\n",
    "\n",
    "print(\"Tripletas en g1:\")\n",
    "for s, p, o in g1:\n",
    "    print(s, p, o)\n",
    "    \n",
    "print(\"Tripletas en g2:\")\n",
    "for s, p, o in g2:\n",
    "    print(s, p, o)"
   ]
  },
  {
   "cell_type": "markdown",
   "metadata": {
    "colab_type": "text",
    "id": "kxxKghwBElOm"
   },
   "source": [
    "Tarea: lista todos los elementos de la clase Person en el primer grafo (data01.rdf) y completa los campos (given name, family name y email) que puedan faltar con los datos del segundo grafo (data02.rdf). Puedes usar consultas SPARQL o iterar el grafo, o ambas cosas."
   ]
  },
  {
   "cell_type": "code",
   "execution_count": 60,
   "metadata": {},
   "outputs": [
    {
     "name": "stdout",
     "output_type": "stream",
     "text": [
      "Persona: http://data.org#SaraJones\n",
      "  Given: No given name\n",
      "  Family: No family name\n",
      "  Email: No email\n",
      "\n",
      "Persona: http://data.org#JohnSmith\n",
      "  Given: No given name\n",
      "  Family: No family name\n",
      "  Email: No email\n",
      "\n",
      "Persona: http://data.org#JohnDoe\n",
      "  Given: No given name\n",
      "  Family: No family name\n",
      "  Email: No email\n",
      "\n",
      "Persona: http://data.org#HarryPotter\n",
      "  Given: No given name\n",
      "  Family: No family name\n",
      "  Email: No email\n",
      "\n"
     ]
    }
   ],
   "source": [
    "# ITERANDO EL GRAFO\n",
    "\n",
    "# Supongamos que g1 y g2 ya están cargados correctamente como se hizo antes\n",
    "\n",
    "# Iterar sobre todas las personas en el primer grafo\n",
    "for person in g1.subjects(RDF.type, DATA.Person):\n",
    "    print(f\"Persona: {person}\")\n",
    "\n",
    "    # Inicializar los campos\n",
    "    given_name = None\n",
    "    family_name = None\n",
    "    email = None\n",
    "\n",
    "    # Buscar el nombre de pila, apellido y email en g1\n",
    "    for gn in g1.objects(person, VCARD.Given):\n",
    "        given_name = gn\n",
    "    for fn in g1.objects(person, VCARD.Family):\n",
    "        family_name = fn\n",
    "    for em in g1.objects(person, VCARD.EMAIL):\n",
    "        email = em\n",
    "\n",
    "    # Si algún dato falta, buscarlo en g2\n",
    "    if not given_name:\n",
    "        for gn in g2.objects(person, VCARD.Given):\n",
    "            given_name = gn\n",
    "    if not family_name:\n",
    "        for fn in g2.objects(person, VCARD.Family):\n",
    "            family_name = fn\n",
    "    if not email:\n",
    "        for em in g2.objects(person, VCARD.EMAIL):\n",
    "            email = em\n",
    "\n",
    "    # Imprimir los resultados con los datos completados\n",
    "    print(f\"  Given: {given_name if given_name else 'No given name'}\")\n",
    "    print(f\"  Family: {family_name if family_name else 'No family name'}\")\n",
    "    print(f\"  Email: {email if email else 'No email'}\")\n",
    "    print()\n",
    "\n",
    "# Iterar sobre todas las personas en el segundo grafo   \n",
    "    \n",
    "\n",
    "\n"
   ]
  }
 ],
 "metadata": {
  "colab": {
   "collapsed_sections": [],
   "name": "Task08.ipynb",
   "provenance": []
  },
  "kernelspec": {
   "display_name": "Python 3 (ipykernel)",
   "language": "python",
   "name": "python3"
  },
  "language_info": {
   "codemirror_mode": {
    "name": "ipython",
    "version": 3
   },
   "file_extension": ".py",
   "mimetype": "text/x-python",
   "name": "python",
   "nbconvert_exporter": "python",
   "pygments_lexer": "ipython3",
   "version": "3.10.14"
  }
 },
 "nbformat": 4,
 "nbformat_minor": 1
}
